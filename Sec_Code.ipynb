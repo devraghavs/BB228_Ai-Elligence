{
 "cells": [
  {
   "cell_type": "code",
   "execution_count": null,
   "metadata": {},
   "outputs": [],
   "source": [
    "import requests\n",
    "import json\n",
    "import time\n",
    "from datetime import datetime\n",
    "FMT = '%H:%M:%S'\n",
    "f = open('ALL_Train_Schedule.json',) \n",
    "trn_sch = json.load(f) \n",
    "f=open('All_train_from_a_station.json')\n",
    "all_trn=json.load(f)"
   ]
  },
  {
   "cell_type": "code",
   "execution_count": null,
   "metadata": {},
   "outputs": [],
   "source": [
    "exception=['06549','02233','05956','08494','06504','05955','09090','06795','02091','06503','02793','02794','06550','01139','08493','02092','04010','09084','04009','09089','03112','02089','08491','02090','01140','09083','04739','04740','02234','06796','02414']\n",
    "#Schedule Data Not Available"
   ]
  },
  {
   "cell_type": "code",
   "execution_count": null,
   "metadata": {},
   "outputs": [],
   "source": [
    "class Book_Ticket():\n",
    "    routes=[]\n",
    "    final_routes=[]\n",
    "    def __init__(self,src,dest):\n",
    "        self.source=src\n",
    "        self.destination=dest\n",
    "        self.src=self.station_name_to_code(src)  #station code call\n",
    "        self.dest=self.station_name_to_code(dest) \n",
    "        if self.src==\"NOT\" or self.dest==\"NOT\":  #IF STATION CODE NOT FOUND\n",
    "            print(\"______________________________Check Your Staion Name Again________________________________\")\n",
    "    def train_between_station(self,src,dest):\n",
    "        #src= source staion code\n",
    "        #dest= destination station code\n",
    "        \n",
    "        train_number=[]\n",
    "        url = \"http://indianrailapi.com/api/v2/TrainBetweenStation/apikey/0fe3b963408929419d6d519b06fd4110/From/\"+src+\"/To/\"+dest+\"/\"\n",
    "        response = requests.get(url)\n",
    "        data=response.text\n",
    "        \n",
    "        if data[17:20]!='200':        #CASE:- NO Train Exist Between SrC and DEST Gives status Code:- 201     \n",
    "            return None\n",
    "        \n",
    "        # print(data[])\n",
    "        parsed=json.loads(data)\n",
    "        #print(json.dumps(parsed, indent=4))\n",
    "        date=parsed['Trains']\n",
    "        #print(date)"
   ]
  }
 ],
 "metadata": {
  "kernelspec": {
   "display_name": "Python 3",
   "language": "python",
   "name": "python3"
  },
  "language_info": {
   "codemirror_mode": {
    "name": "ipython",
    "version": 3
   },
   "file_extension": ".py",
   "mimetype": "text/x-python",
   "name": "python",
   "nbconvert_exporter": "python",
   "pygments_lexer": "ipython3",
   "version": "3.7.1"
  }
 },
 "nbformat": 4,
 "nbformat_minor": 2
}
