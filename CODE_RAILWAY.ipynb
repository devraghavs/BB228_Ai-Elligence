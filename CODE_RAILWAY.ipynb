{
 "cells": [
  {
   "cell_type": "code",
   "execution_count": 1,
   "metadata": {},
   "outputs": [],
   "source": [
    "import requests\n",
    "import json\n",
    "import time\n",
    "# Python program to read \n",
    "# json file  \n",
    "f = open('ALL_Train_Schedule.json',) \n",
    "  \n",
    "# returns JSON object as  \n",
    "# a dictionary \n",
    "trn_sch = json.load(f) "
   ]
  },
  {
   "cell_type": "code",
   "execution_count": null,
   "metadata": {},
   "outputs": [],
   "source": [
    "junction=['UDN', 'WR', 'JNU', 'CPR', 'LDH', 'VBL', 'BSP', 'HRR', 'PRR', 'JM', 'NMZ', 'TEL', 'ANND', 'SRR', 'GDR', 'KRPU', 'GAYA', 'KNW', 'RNY', 'AJNI', 'PLO', 'UBL', 'GNT', 'DD', 'MXN', 'HRS', 'BH', 'AH', 'ASK', 'CAR', 'MRJ', 'JSME', 'ED', 'BTT', 'BSL', 'MKP', 'VAPI', 'GD', 'R', 'SA', 'ST', 'SGL', 'GDA', 'AWR', 'APR', 'ABP', 'DHN', 'RPJ', 'PNP', 'LMG', 'ALJN', 'BVI', 'PUNE', 'RGDA', 'CPH', 'MTJ', 'AK', 'KZJ', 'HPU', 'ARJ', 'BD', 'GY', 'KOTA', 'MAU', 'TPZ', 'SHG', 'VKB', 'RRB', 'MVJ', 'DNA', 'GJL', 'G', 'KGG', 'PC', 'MKN', 'BE', 'KIR', 'JNH', 'LD', 'ASR', 'MNE', 'MUR', 'DLI', 'SEE', 'KRR', 'PAU', 'BUW', 'BKI', 'JL', 'GTL', 'FL', 'BJU', 'DKJ', 'MJ', 'RTM', 'PBN', 'ON', 'KIUL', 'LJN', 'ROK', 'NAD', 'DRD', 'HJP', 'SIR', 'WADI', 'BSB', 'MMR', 'AII', 'FD', 'LKO', 'BOE', 'PHR', 'ADH', 'IAA', 'LWR', 'BRC', 'MKA', 'CNI', 'HWH', 'RXL', 'SV', 'BNW', 'NDKD', 'NYN', 'PNBE', 'LUNI', 'RGS', 'SKI', 'SGUJ', 'JU', 'BDTS', 'ND', 'JP', 'CTC', 'SLO', 'SWM', 'MDP', 'MAO', 'PGW', 'NWP', 'RE']\n",
    "\n",
    "trn_sch2={}\n",
    "for i in trn_sch:\n",
    "    trn_sch2[i]={}\n",
    "    for j in trn_sch[i]:\n",
    "        trn_sch2[i][j[0]]=[j[1],j[2]]\n",
    "print(trn_sch2)"
   ]
  },
  {
   "cell_type": "code",
   "execution_count": null,
   "metadata": {},
   "outputs": [],
   "source": [
    "def stat_code(name,flag=0):\n",
    "    url =\" http://indianrailapi.com/api/v2/StationNameToCode/apikey/0fe3b963408929419d6d519b06fd4110/StationName/\"+name+\"/\"\n",
    "    response = requests.get(url)\n",
    "    # print(response) successfully\n",
    "    data=response.text\n",
    "    # print(data[])\n",
    "    parsed=json.loads(data)\n",
    "    #print(json.dumps(parsed, indent=4))\n",
    "    code=parsed['Station']['StationCode']\n",
    "    if code==None:\n",
    "        if flag==1:\n",
    "            return \"NOT WORKING\"\n",
    "        name=name.upper()+\" \"+\"JN\"\n",
    "        flag=1\n",
    "        return stat_code(name,flag)\n",
    "    #print([code,name])\n",
    "    return code\n",
    "\n",
    "    # date=parsed['glossary']['title']\n",
    "    #print(date)y"
   ]
  },
  {
   "cell_type": "code",
   "execution_count": null,
   "metadata": {},
   "outputs": [],
   "source": [
    "\n",
    "start=time.process_time()\n",
    "train_number_stob=[]\n",
    "from_station=input()\n",
    "to_station=input()\n",
    "code_sour=stat_code(from_station)\n",
    "code_dest=stat_code(to_station)\n",
    "\n",
    "def my(code_sour,code_dest):\n",
    "    \n",
    "    if code_sour==\"NOT WORKING\" or code_dest==\"NOT WORKING\":\n",
    "        print(\"-----> Wrong Station <-----\")\n",
    "        return None\n",
    "    url = \"http://indianrailapi.com/api/v2/TrainBetweenStation/apikey/0fe3b963408929419d6d519b06fd4110/From/\"+code_sour+\"/To/\"+code_dest+\"/\"\n",
    "    response = requests.get(url)\n",
    "    \n",
    "    # print(response) successfully\n",
    "    data=response.text\n",
    "    if data[17:20]!='200':\n",
    "        return None\n",
    "    # print(data[])\n",
    "    parsed=json.loads(data)\n",
    "    #print(json.dumps(parsed, indent=4))\n",
    "    date=parsed['Trains']\n",
    "    #print(date)\n",
    "    \n",
    "    train_number=[]\n",
    "    \n",
    "    for i in date:\n",
    "        train_number.append(i['TrainNo'])\n",
    "    return train_number\n",
    "\n",
    "    \n",
    "print(time.process_time()-start)  \n",
    "#print(from_station,to_station)"
   ]
  }
 ],
 "metadata": {
  "kernelspec": {
   "display_name": "Python 3",
   "language": "python",
   "name": "python3"
  },
  "language_info": {
   "codemirror_mode": {
    "name": "ipython",
    "version": 3
   },
   "file_extension": ".py",
   "mimetype": "text/x-python",
   "name": "python",
   "nbconvert_exporter": "python",
   "pygments_lexer": "ipython3",
   "version": "3.6.5"
  }
 },
 "nbformat": 4,
 "nbformat_minor": 2
}
