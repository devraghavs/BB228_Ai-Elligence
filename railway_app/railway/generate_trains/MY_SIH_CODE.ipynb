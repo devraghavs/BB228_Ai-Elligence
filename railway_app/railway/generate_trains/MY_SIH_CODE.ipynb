{
 "cells": [
  {
   "cell_type": "code",
   "execution_count": 1,
   "metadata": {},
   "outputs": [],
   "source": [
    "import requests\n",
    "import json\n",
    "import time\n",
    "from datetime import datetime\n",
    "FMT = '%H:%M:%S'\n",
    "f = open('ALL_Train_Schedule.json',) \n",
    "trn_sch = json.load(f) \n",
    "f=open('All_train_from_a_station.json')\n",
    "all_trn=json.load(f)\n",
    "f=open('train_arr_dept.json')\n",
    "trn_arr_dept=json.load(f)\n",
    "f=open('All_Station_Nearbuy.json')\n",
    "stat_neig=json.load(f)"
   ]
  },
  {
   "cell_type": "code",
   "execution_count": 2,
   "metadata": {},
   "outputs": [],
   "source": [
    "#exception=['06549','02233','05956','08494','06504','05955','09090','06795','02091','06503','02793','02794','06550','01139','08493','02092','04010','09084','04009','09089','03112','02089','08491','02090','01140','09083','04739','04740','02234','06796','02414']\n",
    "#Schedule Data Not Available"
   ]
  },
  {
   "cell_type": "code",
   "execution_count": 13,
   "metadata": {},
   "outputs": [],
   "source": [
    "class Book_Ticket():\n",
    "    routes=[]\n",
    "    final_routes=[]\n",
    "    def __init__(self,src,dest):\n",
    "        self.source=src\n",
    "        self.destination=dest\n",
    "        self.src=self.station_name_to_code(src)  #station code call\n",
    "        self.dest=self.station_name_to_code(dest) \n",
    "        if self.src==\"NOT\" or self.dest==\"NOT\":  #IF STATION CODE NOT FOUND\n",
    "            print(\"______________________________Check Your Staion Name Again________________________________\")\n",
    "    def display(self):\n",
    "        print(\"NO. OF POSSIBLE ALTERNATE ROUTE USING 1 STOPOVER =\",len(self.final_routes))\n",
    "        counter=1\n",
    "        for i in self.final_routes:\n",
    "            print(\"%%%%%%%%%%%%%%%%%%%%%%%%%%%%%%%%%%%%%%%%%%%%%%%%%%%%%\")\n",
    "            print()\n",
    "            part1=i[0]\n",
    "            part2=i[1]\n",
    "            print(\"Route-\",counter)\n",
    "            print()\n",
    "            print(part1[1][0],\"-------->\",part1[1][1])\n",
    "            print(\"Train No-\",part1[0])\n",
    "            print(\"-------------------------------------------------------\")\n",
    "            print()\n",
    "            print(part2[1][0],\"-------->\",part2[1][1])\n",
    "            print(\"Train No-\",part2[0])\n",
    "            print()\n",
    "            print(\"%%%%%%%%%%%%%%%%%%%%%%%%%%%%%%%%%%%%%%%%%%%%%%%%%%%%%\")\n",
    "            counter+=1\n",
    "    def train_between_station(self,src,dest):\n",
    "        #src= source staion code\n",
    "        #dest= destination station code\n",
    "        \n",
    "        train_number=[]\n",
    "        url = \"http://indianrailapi.com/api/v2/TrainBetweenStation/apikey/0fe3b963408929419d6d519b06fd4110/From/\"+src+\"/To/\"+dest+\"/\"\n",
    "        response = requests.get(url)\n",
    "        data=response.text\n",
    "        \n",
    "        if data[17:20]!='200':        #CASE:- NO Train Exist Between SrC and DEST Gives status Code:- 201     \n",
    "            return None\n",
    "        \n",
    "        # print(data[])\n",
    "        parsed=json.loads(data)\n",
    "        #print(json.dumps(parsed, indent=4))\n",
    "        date=parsed['Trains']\n",
    "        #print(date)\n",
    "        for i in date:\n",
    "            train_number.append(i['TrainNo'])\n",
    "        #train_number=list(set(train_number)-set(exception))\n",
    "        return train_number\n",
    "    \n",
    "    def station_name_to_code(self,name,flag=0):\n",
    "        url =\" http://indianrailapi.com/api/v2/StationNameToCode/apikey/0fe3b963408929419d6d519b06fd4110/StationName/\"+name+\"/\"\n",
    "        response = requests.get(url)\n",
    "        # print(response) successfully\n",
    "        data=response.text\n",
    "        # print(data[])\n",
    "        parsed=json.loads(data)\n",
    "        #print(json.dumps(parsed, indent=4))\n",
    "        code=parsed['Station']['StationCode']\n",
    "        if code==None:\n",
    "            if flag==1:\n",
    "                return \"NOT\"\n",
    "            name=name.upper()+\" \"+\"JN\"\n",
    "            flag=1\n",
    "            return self.station_name_to_code(name,flag)\n",
    "        #print([code,name])\n",
    "        return code\n",
    "    \n",
    "    def train_no_to_station(self,trn_num):\n",
    "        return [i[0] for i in trn_sch[trn_num]]\n",
    "    \n",
    "    def poss_station(self):\n",
    "        #src_stat=[self.train_no_to_station(i) for i in all_trn[self.src]]\n",
    "        #dest_stat=[self.train_no_to_station(i) for i in all_trn[self.dest]]\n",
    "        #src_stat_set=set()\n",
    "        #dest_stat_set=set()\n",
    "        #for i in src_stat:\n",
    "            #for j in i:\n",
    "                #src_stat_set.add(j)\n",
    "        #for i in dest_stat:\n",
    "            #for j in i:\n",
    "                #dest_stat_set.add(j)\n",
    "        src_stat_set=set(stat_neig[self.src])\n",
    "        dest_stat_set=set(stat_neig[self.dest])\n",
    "        final_set=src_stat_set.intersection(dest_stat_set)\n",
    "        if self.src in final_set:\n",
    "            final_set.remove(self.src)\n",
    "        if self.dest in final_set:\n",
    "            final_set.remove(self.dest)\n",
    "        return list(final_set)\n",
    "    \n",
    "    def alternate_train(self):\n",
    "        inter_stat=self.poss_station()\n",
    "        for i in inter_stat:\n",
    "            self.create_tuple(i)\n",
    "        for i,j in self.routes:\n",
    "            #print(\"_________MAIN LOOP___________\")\n",
    "            trn_list_p1=self.train_between_station(i[0],i[1])\n",
    "            trn_list_p2=self.train_between_station(j[0],j[1])\n",
    "            if trn_list_p1==None:\n",
    "                continue\n",
    "            if trn_list_p2==None:\n",
    "                continue\n",
    "            #print(trn_list_p1)\n",
    "            for t in trn_list_p1:\n",
    "                #print(\"LOOP1\")\n",
    "                #print(t)\n",
    "                try:\n",
    "                    arr,dept=trn_arr_dept[t][i[1]]\n",
    "                    #print(arr,dept,end=\"$$$$$$$$\\n\")\n",
    "                    for k in trn_list_p2:\n",
    "                        if t==k:\n",
    "                            continue\n",
    "                        #print(\"LOOP2\")\n",
    "                        #print(k)\n",
    "                        arr2,dept2=trn_arr_dept[k][i[1]]\n",
    "                        #print(arr2,dept2,end=\"$$$$$$$$\\n\")\n",
    "                        td = datetime.strptime(arr2, FMT) - datetime.strptime(arr, FMT)\n",
    "                        #print(\"END_LOOP2\")\n",
    "                        days = td.days\n",
    "                        hours, remainder = divmod(td.seconds, 3600)\n",
    "                        minutes, seconds = divmod(remainder, 60)\n",
    "                        # If you want to take into account fractions of a second\n",
    "                        seconds += td.microseconds / 1e6\n",
    "                        if hours<4:\n",
    "                            temp=[]\n",
    "                            temp.append(t)\n",
    "                            temp.append(i)\n",
    "                            temp2=[]\n",
    "                            temp2.append(k)   \n",
    "                            temp2.append(j)\n",
    "                            temp3=[]\n",
    "                            temp3.append(temp)\n",
    "                            temp3.append(temp2)\n",
    "                            self.final_routes.append(temp3)\n",
    "                except:\n",
    "                    continue\n",
    "                #print(\"END_LOOP1\")\n",
    "        self.display()\n",
    "    def create_tuple(self,i):\n",
    "        temp=[]\n",
    "        temp2=[]\n",
    "        temp.append(self.src)\n",
    "        temp.append(i)\n",
    "        temp2.append(i)\n",
    "        temp2.append(self.dest)\n",
    "        temp3=[]\n",
    "        temp3.append(temp)\n",
    "        temp3.append(temp2)\n",
    "        self.routes.append(temp3)  "
   ]
  },
  {
   "cell_type": "code",
   "execution_count": 14,
   "metadata": {},
   "outputs": [],
   "source": [
    "cus123=Book_Ticket(\"New Delhi\",\"Abu Road\")"
   ]
  },
  {
   "cell_type": "code",
   "execution_count": 15,
   "metadata": {},
   "outputs": [
    {
     "data": {
      "text/plain": [
       "['MSH',\n",
       " 'SBI',\n",
       " 'ST',\n",
       " 'JP',\n",
       " 'GGN',\n",
       " 'PNU',\n",
       " 'ANND',\n",
       " 'AII',\n",
       " 'ADI',\n",
       " 'BDTS',\n",
       " 'DEC',\n",
       " 'BRC',\n",
       " 'BVI']"
      ]
     },
     "execution_count": 15,
     "metadata": {},
     "output_type": "execute_result"
    }
   ],
   "source": [
    "cus123.poss_station()"
   ]
  },
  {
   "cell_type": "code",
   "execution_count": 16,
   "metadata": {},
   "outputs": [],
   "source": [
    "cus123.alternate_train()"
   ]
  },
  {
   "cell_type": "code",
   "execution_count": 17,
   "metadata": {},
   "outputs": [
    {
     "data": {
      "text/plain": [
       "[[['NDLS', 'MSH'], ['MSH', 'ABR']],\n",
       " [['NDLS', 'SBI'], ['SBI', 'ABR']],\n",
       " [['NDLS', 'ST'], ['ST', 'ABR']],\n",
       " [['NDLS', 'JP'], ['JP', 'ABR']],\n",
       " [['NDLS', 'GGN'], ['GGN', 'ABR']],\n",
       " [['NDLS', 'PNU'], ['PNU', 'ABR']],\n",
       " [['NDLS', 'ANND'], ['ANND', 'ABR']],\n",
       " [['NDLS', 'AII'], ['AII', 'ABR']],\n",
       " [['NDLS', 'ADI'], ['ADI', 'ABR']],\n",
       " [['NDLS', 'BDTS'], ['BDTS', 'ABR']],\n",
       " [['NDLS', 'DEC'], ['DEC', 'ABR']],\n",
       " [['NDLS', 'BRC'], ['BRC', 'ABR']],\n",
       " [['NDLS', 'BVI'], ['BVI', 'ABR']]]"
      ]
     },
     "execution_count": 17,
     "metadata": {},
     "output_type": "execute_result"
    }
   ],
   "source": [
    "cus123.routes"
   ]
  },
  {
   "cell_type": "code",
   "execution_count": 8,
   "metadata": {},
   "outputs": [
    {
     "ename": "NameError",
     "evalue": "name 'cus1' is not defined",
     "output_type": "error",
     "traceback": [
      "\u001b[1;31m---------------------------------------------------------------------------\u001b[0m",
      "\u001b[1;31mNameError\u001b[0m                                 Traceback (most recent call last)",
      "\u001b[1;32m<ipython-input-8-b29c950fe274>\u001b[0m in \u001b[0;36m<module>\u001b[1;34m\u001b[0m\n\u001b[1;32m----> 1\u001b[1;33m \u001b[0mprint\u001b[0m\u001b[1;33m(\u001b[0m\u001b[1;33m*\u001b[0m\u001b[0mcus1\u001b[0m\u001b[1;33m.\u001b[0m\u001b[0mroutes\u001b[0m\u001b[1;33m,\u001b[0m\u001b[0msep\u001b[0m\u001b[1;33m=\u001b[0m\u001b[1;34m\"\\n\"\u001b[0m\u001b[1;33m)\u001b[0m\u001b[1;33m\u001b[0m\u001b[1;33m\u001b[0m\u001b[0m\n\u001b[0m",
      "\u001b[1;31mNameError\u001b[0m: name 'cus1' is not defined"
     ]
    }
   ],
   "source": [
    "print(*cus1.routes,sep=\"\\n\")"
   ]
  },
  {
   "cell_type": "code",
   "execution_count": null,
   "metadata": {},
   "outputs": [],
   "source": [
    "print(cus1.train_between_station())"
   ]
  },
  {
   "cell_type": "code",
   "execution_count": null,
   "metadata": {},
   "outputs": [],
   "source": [
    "cus1.final_routes[0][1]"
   ]
  },
  {
   "cell_type": "code",
   "execution_count": null,
   "metadata": {},
   "outputs": [],
   "source": [
    "counter=1\n",
    "for i in cus1.final_routes:\n",
    "    print(\"%%%%%%%%%%%%%%%%%%%%%%%%%%%%%%%%%%%%%%%%%%%%%%%%%%%%%\")\n",
    "    print()\n",
    "    part1=i[0]\n",
    "    part2=i[1]\n",
    "    print(\"part1\",part1)\n",
    "    print(\"Route-\",counter)\n",
    "    print()\n",
    "    print(part1[1][0],\"-------->\",part1[1][1])\n",
    "    print(\"Train No-\",part1[0])\n",
    "    print(\"-------------------------------------------------------\")\n",
    "    print()\n",
    "    print(part2[1][0],\"-------->\",part2[1][1])\n",
    "    print(\"Train No-\",part2[0])\n",
    "    print()\n",
    "    print(\"%%%%%%%%%%%%%%%%%%%%%%%%%%%%%%%%%%%%%%%%%%%%%%%%%%%%%\")\n",
    "    counter+=1"
   ]
  },
  {
   "cell_type": "code",
   "execution_count": null,
   "metadata": {},
   "outputs": [],
   "source": [
    "td = datetime.strptime(arr2, FMT) - datetime.strptime(arr, FMT)\n",
    "#print(\"END_LOOP2\")\n",
    "days = td.days\n",
    "hours, remainder = divmod(td.seconds, 3600)\n",
    "minutes, seconds = divmod(remainder, 60)\n",
    "# If you want to take into account fractions of a second\n",
    "seconds += td.microseconds / 1e6"
   ]
  },
  {
   "cell_type": "code",
   "execution_count": null,
   "metadata": {},
   "outputs": [],
   "source": [
    "arr2=\"10:42\"\n",
    "arr=\"15:31\""
   ]
  },
  {
   "cell_type": "code",
   "execution_count": null,
   "metadata": {},
   "outputs": [],
   "source": [
    "ar=[\"02414\",\"06549\",\"02233\",\"05956\",\"08494\",\"06504\",\"05955\",\"09090\",\"06795\",\"02091\",\"06503\",\"02794\",\"08493\"]"
   ]
  },
  {
   "cell_type": "code",
   "execution_count": null,
   "metadata": {},
   "outputs": [],
   "source": [
    "for i in ar:\n",
    "    sch=trn_sch[i]\n",
    "    for j in range(len(sch)):\n",
    "        temp=sch[j]\n",
    "        counter=0\n",
    "        for t in temp:\n",
    "            print(sch[j][counter][])\n",
    "            counter+=1\n",
    "    #print(sch[0])"
   ]
  },
  {
   "cell_type": "code",
   "execution_count": null,
   "metadata": {},
   "outputs": [],
   "source": [
    "att"
   ]
  },
  {
   "cell_type": "code",
   "execution_count": null,
   "metadata": {},
   "outputs": [],
   "source": []
  }
 ],
 "metadata": {
  "kernelspec": {
   "display_name": "Python 3",
   "language": "python",
   "name": "python3"
  },
  "language_info": {
   "codemirror_mode": {
    "name": "ipython",
    "version": 3
   },
   "file_extension": ".py",
   "mimetype": "text/x-python",
   "name": "python",
   "nbconvert_exporter": "python",
   "pygments_lexer": "ipython3",
   "version": "3.7.1"
  }
 },
 "nbformat": 4,
 "nbformat_minor": 2
}
