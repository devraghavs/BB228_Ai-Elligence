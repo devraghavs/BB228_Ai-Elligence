{
 "cells": [
  {
   "cell_type": "code",
   "execution_count": 12,
   "metadata": {},
   "outputs": [],
   "source": [
    "import requests\n",
    "import json\n",
    "import time"
   ]
  },
  {
   "cell_type": "code",
   "execution_count": 4,
   "metadata": {},
   "outputs": [],
   "source": [
    "#trn_sch={\"02952\": [[\"NEW DELHI (NDLS)\", \"Null\", \"17:00\"], [\"KOTA JN (KOTA)\", \"21:40\", \"21:50\"], [\"RATLAM (RTM)\", \"00:42\", \"00:45\"], [\"VADODARA JN (BRC)\", \"03:48\", \"03:56\"], [\"SURAT (ST)\", \"05:28\", \"05:33\"], [\"MUMBAI CENTRAL (MMCT)\", \"08:40\", \"Null\"]], \"02904\": [[\"NEW DELHI (NDLS)\", \"Null\", \"07:20\"], [\"FARIDABAD (FDB)\", \"07:37\", \"07:39\"], [\"MATHURA JN (MTJ)\", \"09:45\", \"09:50\"], [\"BHARATPUR JN (BTE)\", \"10:23\", \"10:25\"], [\"BAYANA JN (BXN)\", \"10:53\", \"10:55\"], [\"HINDAUN CITY (HAN)\", \"11:18\", \"11:20\"], [\"SHRI MAHABIRJI (SMBJ)\", \"11:28\", \"11:30\"], [\"GANGAPUR CITY (GGC)\", \"12:00\", \"12:05\"], [\"SAWAI MADHOPUR (SWM)\", \"12:50\", \"12:55\"], [\"KOTA JN (KOTA)\", \"14:15\", \"14:25\"], [\"RAMGANJ MANDI (RMA)\", \"15:21\", \"15:22\"], [\"BHAWANI MANDI (BWM)\", \"15:43\", \"15:45\"], [\"SHAMGARH (SGZ)\", \"16: 08\", \"16: 10\"], [\"NAGDA JN (NAD)\", \"17:50\", \"17:52\"], [\"RATLAM JN (RTM)\", \"18:50\", \"19:00\"], [\"MEGHNAGAR (MGN)\", \"20:03\", \"20:05\"], [\"DAHOD (DHD)\", \"20: 3220: 34\"], [\"GODHRA JN (GDA)\", \"21: 51\", \"21: 53\"], [\"VADODARA JN (BRC)\", \"22: 53\", \"23: 03\"], [\"SURAT (ST)\", \"00: 57\", \"01: 02\"], [\"BORIVALI (BVI)\", \"03: 58\", \"04: 02\"], [\"MUMBAI DADAR WEST (DDR)\", \"04:41\", \"04:44\"], [\"MUMBAI CENTRAL (MMCT)\", \"05:05\", \"Null\"]], \"02414\": [[\"NEW DELHI (NDLS)\", \"Null\", \"11:25\"], [\"KOTA JN (KOTA)\", \"16:00\", \"16:10\"], [\"VADODARA JN (BRC)\", \"22:50\", \"23:08\"], [\"SURAT (ST)\", \"00:43\", \"00:46\"], [\"PANVEL JN (PNVL)\", \"05:08\", \"05:13\"], [\"RATNAGIRI (RN)\", \"09:30\", \"09:35\"], [\"MADGOAN JN (MAO)\", \"12:50\", \"Null\"]], \"02618\": [[\"NEW DELHI (NDLS)\", \"Null\", \"09:15\"], [\"FARIDABAD (FDB)\", \"09: 35\", \"09: 37\"], [\"MATHURA JN (MTJ)\", \"11: 03\", \"11: 05\"], [\"AGRA CANTT (AGC)\", \"11: 50\", \"11: 55\"], [\"MORENA (MRA)\", \"13: 22\", \"13: 24\"], [\"GWALIOR JN (GWL)\", \"13: 55\", \"14: 00\"], [\"JHANSI JN (JHS)\", \"15: 30\", \"15: 40\"], [\"BINA JN (BINA)\", \"17: 40\", \"17: 45\"], [\"BHOPAL JN (BPL)\", \"19:40\", \"19:50\"], [\"ITARSI JN (ET)\", \"21:25\", \"21:30\"], [\"KHANDWA (KNW)\", \"23;37\", \"23:40\"], [\"BURHANPUR (BAU)\", \"00:30\", \"00:32\"], [\"BHUSAVAL JN (BSL)\", \"01:30\", \"01:35\"], [\"MANMAD JN (MMR)\", \"04: 23\", \"04: 25\"], [\"NASIK ROAD (NK)\", \"\\t05: 15\", \"05: 20\"], [\"IGATPURI (IGP)\", \"06: 40\", \"06: 45\"], [\"KALYAN JN (KYN)\", \"08: 32\", \"08: 35\"], [\"PANVEL (PNVL)\", \"09: 25\", \"09: 30\"]], \"02432\": [[\"NEW DELHI (NDLS)\", \"Null\", \"11:25\"], [\"KOTA JN (KOTA)\", \"16:00\", \"16:10\"], [\"VADODARA JN (BRC)\", \"22:50\", \"23:08\"], [\"PANVEL (PNVL)\", \"05:00\", \"05:05\"], [\"MADGAON (MAO)\", \"13:02\", \"13:12\"], [\"MANGALORE JN (MAJN)\", \"18:25\", \"18:35\"], [\"KOZHIKODE (CLT)\", \"21:52\", \"21:55\"], [\"ERNAKULAM JN (ERS)\", \"01:40\", \"01:45\"], [\"TRIVANDRUM CENTRAL (TVC)\", \"05:25\", \"Null\"]], \"02284\": [[\"NEW DELHI (NDLS)\", \"Null\", \"21:35\"], [\"KOTA JN (KOTA)\", \"02:55\", \"03:05\"], [\"RATLAM JN (RTM)\", \"07:05\", \"07:10\"], [\"VADODARA JN (BRC)\", \"11:01\", \"11:10\"], [\"VASAI ROAD (BSR)\", \"16:20\", \"16:25\"], [\"PANVEL (PNVL)\", \"17:55\", \"18:00\"], [\"RATNAGIRI (RN)\", \"23:20\", \"23:25\"], [\"MADGAON (MAO)\", \"04:25\", \"04:35\"], [\"MANGALORE JN (MAJN)\", \"10:15\", \"10:25\"], [\"KOZHIKODE (CLT)\", \"13:27\", \"13:30\"], [\"ERNAKULAM JN (ERS)\", \"18:20\", \"Null\"]], \"20926\": [[\"KALKA (KLK)\", \"Null\", \"10:20\"], [\"CHANDIGARH (CDG)\", \"11:05\", \"11:20\"], [\"AMBALA CANT JN (UMB)\", \"12:05\", \"13:10\"], [\"KURUKSHETRA JN (KKDE)\", \"13:40\", \"13:42\"], [\"KARNAL (KUN)\", \"14:04\", \"14:06\"], [\"PANIPAT JN (PNP)\", \"14:36\", \"14:38\"], [\"SONIPAT (SNP)\", \"15:16\", \"15:18\"], [\"SUBZI MANDI (SZM)\", \"15:54\", \"15:56\"], [\"NEW DELHI (NDLS)\", \"16:25\", \"16:45\"], [\"FARIDABAD (FDB)\", \"17:11\", \"17:13\"], [\"MATHURA JN (MTJ)\", \"19:10\", \"19:15\"], [\"BHARATPUR JN (BTE)\", \"19:41\", \"19:43\"], [\"BAYANA JN (BXN)\", \"20:11\", \"20:13\"], [\"HINDAUN CITY (HAN)\", \"20:36\", \"20:38\"], [\"GANGAPUR CITY (GGC)\", \"21:13\", \"21:15\"], [\"SAWAI MADHOPUR (SWM)\", \"22:00\", \"22:05\"], [\"KOTA JN (KOTA)\", \"23:30\", \"23:40\"], [\"SHAMGARH (SGZ)\", \"01:15\", \"01:17\"], [\"NAGDA JN (NAD)\", \"03:13\", \"03:15\"], [\"RATLAM JN (RTM)\", \"04:15\", \"04:25\"], [\"MEGHNAGAR (MGN)\", \"05:28\", \"05:30\"], [\"DAHOD (DHD)\", \"05:57\", \"05:59\"], [\"GODHRA JN (GDA)\", \"07:20\", \"07:22\"], [\"VADODARA JN (BRC)\", \"08:20\", \"08:30\"], [\"BHARUCH JN (BH)\", \"09:16\", \"09:18\"], [\"SURAT (ST)\", \"10:23\", \"10:28\"], [\"NAVSARI (NVS)\", \"10:49\", \"10:51\"], [\"VALSAD (BL)\", \"\\t11:28\", \"11:30\"], [\"VAPI (VAPI)\", \"11:50\", \"11:52\"], [\"DAHANU ROAD (DRD)\", \"12:32\", \"12:34\"], [\"BORIVALI (BVI)\", \"\\t13:55\", \"13:57\"], [\"ANDHERI (ADH)\", \"14:17\", \"14:19\"], [\"MUMBAI BANDRA TERMINUS (BDTS)\", \"14:45\", \"Null\"]], \"02926\": [[\"KALKA (KLK)\", \"Null\", \"10:20\"], [\"CHANDIGARH (CDG)\", \"11:05\", \"11:20\"], [\"AMBALA CANT JN (UMB)\", \"12:05\", \"13:10\"], [\"KURUKSHETRA JN (KKDE)\", \"13:40\", \"13:42\"], [\"KARNAL (KUN)\", \"14:04\", \"14:06\"], [\"PANIPAT JN (PNP)\", \"14:36\", \"14:38\"], [\"SONIPAT (SNP)\", \"15:16\", \"15:18\"], [\"SUBZI MANDI (SZM)\", \"15:54\", \"15:56\"], [\"NEW DELHI (NDLS)\", \"16:25\", \"16:45\"], [\"FARIDABAD (FDB)\", \"17:11\", \"17:13\"], [\"MATHURA JN (MTJ)\", \"19:10\", \"19:15\"], [\"BHARATPUR JN (BTE)\", \"19:41\", \"19:43\"], [\"BAYANA JN (BXN)\", \"20:11\", \"20:13\"], [\"HINDAUN CITY (HAN)\", \"20:36\", \"20:38\"], [\"GANGAPUR CITY (GGC)\", \"21:13\", \"21:15\"], [\"SAWAI MADHOPUR (SWM)\", \"22:00\", \"22:05\"], [\"KOTA JN (KOTA)\", \"23:30\", \"23:40\"], [\"SHAMGARH (SGZ)\", \"01:15\", \"01:17\"], [\"NAGDA JN (NAD)\", \"03:13\", \"03:15\"], [\"RATLAM JN (RTM)\", \"04:15\", \"04:25\"], [\"MEGHNAGAR (MGN)\", \"05:28\", \"05:30\"], [\"DAHOD (DHD)\", \"05:57\", \"05:59\"], [\"GODHRA JN (GDA)\", \"07:20\", \"07:22\"], [\"VADODARA JN (BRC)\", \"08:20\", \"08:30\"], [\"BHARUCH JN (BH)\", \"09:16\", \"09:18\"], [\"SURAT (ST)\", \"10:23\", \"10:28\"], [\"NAVSARI (NVS)\", \"10:49\", \"10:51\"], [\"VALSAD (BL)\", \"\\t11:28\", \"11:30\"], [\"VAPI (VAPI)\", \"11:50\", \"11:52\"], [\"DAHANU ROAD (DRD)\", \"12:32\", \"12:34\"], [\"BORIVALI (BVI)\", \"\\t13:55\", \"13:57\"], [\"ANDHERI (ADH)\", \"14:17\", \"14:19\"], [\"MUMBAI BANDRA TERMINUS (BDTS)\", \"14:45\", \"Null\"]]}\n"
   ]
  },
  {
   "cell_type": "code",
   "execution_count": 9,
   "metadata": {},
   "outputs": [],
   "source": [
    "trn_sch={'02952': [['NDLS', 'Null', '17:00'], ['KOTA', '21:40', '21:50'], ['RTM', '00:42', '00:45'], ['BRC', '03:48', '03:56'], ['ST', '05:28', '05:33'], ['BCT', '08:40', 'Null']], '02904': [['NDLS', 'Null', '07:20'], ['FDB', '07:37', '07:39'], ['MTJ', '09:45', '09:50'], ['BTE', '10:23', '10:25'], ['BXN', '10:53', '10:55'], ['HAN', '11:18', '11:20'], ['SMBJ', '11:28', '11:30'], ['GGC', '12:00', '12:05'], ['SWM', '12:50', '12:55'], ['KOTA', '14:15', '14:25'], ['RMA', '15:21', '15:22'], ['BWM', '15:43', '15:45'], ['SGZ', '16: 08', '16: 10'], ['NAD', '17:50', '17:52'], ['RTM', '18:50', '19:00'], ['MGN', '20:03', '20:05'], ['DHD', '20: 3220: 34'], ['GDA', '21: 51', '21: 53'], ['BRC', '22: 53', '23: 03'], ['ST', '00: 57', '01: 02'], ['BVI', '03: 58', '04: 02'], ['DDR', '04:41', '04:44'], ['BCT', '05:05', 'Null']], '02414': [['NDLS', 'Null', '11:25'], ['KOTA', '16:00', '16:10'], ['BRC', '22:50', '23:08'], ['ST', '00:43', '00:46'], ['PNVL', '05:08', '05:13'], ['RN', '09:30', '09:35'], ['MAO', '12:50', 'Null']], '02618': [['NDLS', 'Null', '09:15'], ['FDB', '09: 35', '09: 37'], ['MTJ', '11: 03', '11: 05'], ['AGC', '11: 50', '11: 55'], ['MRA', '13: 22', '13: 24'], ['GWL', '13: 55', '14: 00'], ['JHS', '15: 30', '15: 40'], ['BINA', '17: 40', '17: 45'], ['BPL', '19:40', '19:50'], ['ET', '21:25', '21:30'], ['KNW', '23;37', '23:40'], ['BAU', '00:30', '00:32'], ['BSL', '01:30', '01:35'], ['MMR', '04: 23', '04: 25'], ['NK', '\\t05: 15', '05: 20'], ['IGP', '06: 40', '06: 45'], ['KYN', '08: 32', '08: 35'], ['PNVL', '09: 25', '09: 30']], '02432': [['NDLS', 'Null', '11:25'], ['KOTA', '16:00', '16:10'], ['BRC', '22:50', '23:08'], ['PNVL', '05:00', '05:05'], ['MAO', '13:02', '13:12'], ['MAJN', '18:25', '18:35'], ['CLT', '21:52', '21:55'], ['ERS', '01:40', '01:45'], ['TVC', '05:25', 'Null']], '02284': [['NDLS', 'Null', '21:35'], ['KOTA', '02:55', '03:05'], ['RTM', '07:05', '07:10'], ['BRC', '11:01', '11:10'], ['BSR', '16:20', '16:25'], ['PNVL', '17:55', '18:00'], ['RN', '23:20', '23:25'], ['MAO', '04:25', '04:35'], ['MAJN', '10:15', '10:25'], ['CLT', '13:27', '13:30'], ['ERS', '18:20', 'Null']], '20926': [['KLK', 'Null', '10:20'], ['CDG', '11:05', '11:20'], ['UMB', '12:05', '13:10'], ['KKDE', '13:40', '13:42'], ['KUN', '14:04', '14:06'], ['PNP', '14:36', '14:38'], ['SNP', '15:16', '15:18'], ['SZM', '15:54', '15:56'], ['NDLS', '16:25', '16:45'], ['FDB', '17:11', '17:13'], ['MTJ', '19:10', '19:15'], ['BTE', '19:41', '19:43'], ['BXN', '20:11', '20:13'], ['HAN', '20:36', '20:38'], ['GGC', '21:13', '21:15'], ['SWM', '22:00', '22:05'], ['KOTA', '23:30', '23:40'], ['SGZ', '01:15', '01:17'], ['NAD', '03:13', '03:15'], ['RTM', '04:15', '04:25'], ['MGN', '05:28', '05:30'], ['DHD', '05:57', '05:59'], ['GDA', '07:20', '07:22'], ['BRC', '08:20', '08:30'], ['BH', '09:16', '09:18'], ['ST', '10:23', '10:28'], ['NVS', '10:49', '10:51'], ['BL', '\\t11:28', '11:30'], ['VAPI', '11:50', '11:52'], ['DRD', '12:32', '12:34'], ['BVI', '\\t13:55', '13:57'], ['ADH', '14:17', '14:19'], ['BDTS', '14:45', 'Null']], '02926': [['KLK', 'Null', '10:20'], ['CDG', '11:05', '11:20'], ['UMB', '12:05', '13:10'], ['KKDE', '13:40', '13:42'], ['KUN', '14:04', '14:06'], ['PNP', '14:36', '14:38'], ['SNP', '15:16', '15:18'], ['SZM', '15:54', '15:56'], ['NDLS', '16:25', '16:45'], ['FDB', '17:11', '17:13'], ['MTJ', '19:10', '19:15'], ['BTE', '19:41', '19:43'], ['BXN', '20:11', '20:13'], ['HAN', '20:36', '20:38'], ['GGC', '21:13', '21:15'], ['SWM', '22:00', '22:05'], ['KOTA', '23:30', '23:40'], ['SGZ', '01:15', '01:17'], ['NAD', '03:13', '03:15'], ['RTM', '04:15', '04:25'], ['MGN', '05:28', '05:30'], ['DHD', '05:57', '05:59'], ['GDA', '07:20', '07:22'], ['BRC', '08:20', '08:30'], ['BH', '09:16', '09:18'], ['ST', '10:23', '10:28'], ['NVS', '10:49', '10:51'], ['BL', '\\t11:28', '11:30'], ['VAPI', '11:50', '11:52'], ['DRD', '12:32', '12:34'], ['BVI', '\\t13:55', '13:57'], ['ADH', '14:17', '14:19'], ['BDTS', '14:45', 'Null']]}"
   ]
  },
  {
   "cell_type": "code",
   "execution_count": 10,
   "metadata": {
    "tags": []
   },
   "outputs": [
    {
     "output_type": "stream",
     "name": "stdout",
     "text": "['NDLS', 'FDB', 'MTJ', 'BTE', 'BXN', 'HAN', 'SMBJ', 'GGC', 'SWM', 'KOTA', 'RMA', 'BWM', 'SGZ', 'NAD', 'RTM', 'MGN', 'DHD', 'GDA', 'BRC', 'ST', 'BVI', 'DDR', 'BCT']\n"
    }
   ],
   "source": [
    "print([i[0] for i in trn_sch[\"02904\"]])"
   ]
  },
  {
   "cell_type": "code",
   "execution_count": 11,
   "metadata": {},
   "outputs": [],
   "source": [
    "def stat_code(name,flag=0):\n",
    "    url =\" http://indianrailapi.com/api/v2/StationNameToCode/apikey/0fe3b963408929419d6d519b06fd4110/StationName/\"+name+\"/\"\n",
    "    response = requests.get(url)\n",
    "    # print(response) successfully\n",
    "    data=response.text\n",
    "    # print(data[])\n",
    "    parsed=json.loads(data)\n",
    "    #print(json.dumps(parsed, indent=4))\n",
    "    code=parsed['Station']['StationCode']\n",
    "    if code==None:\n",
    "        if flag==1:\n",
    "            return \"NOT WORKING\"\n",
    "        name=name.upper()+\" \"+\"JN\"\n",
    "        flag=1\n",
    "        return stat_code(name,flag)\n",
    "    #print([code,name])\n",
    "    return code\n",
    "\n",
    "    # date=parsed['glossary']['title']\n",
    "    #print(date)y\n"
   ]
  },
  {
   "cell_type": "code",
   "execution_count": 14,
   "metadata": {
    "tags": []
   },
   "outputs": [
    {
     "output_type": "stream",
     "name": "stdout",
     "text": "0.5607589260000001\n"
    }
   ],
   "source": [
    "start=time.process_time()\n",
    "train_number_stob=[]\n",
    "from_station=input()\n",
    "to_station=input()\n",
    "code_sour=stat_code(from_station)\n",
    "code_dest=stat_code(to_station)\n",
    "\n",
    "def my():\n",
    "    \n",
    "    if code_sour==\"NOT WORKING\" or code_dest==\"NOT WORKING\":\n",
    "        print(\"-----> Wrong Station <-----\")\n",
    "        my()\n",
    "        return None\n",
    "    url = \"http://indianrailapi.com/api/v2/TrainBetweenStation/apikey/0fe3b963408929419d6d519b06fd4110/From/\"+code_sour+\"/To/\"+code_dest+\"/\"\n",
    "    response = requests.get(url)\n",
    "    \n",
    "    # print(response) successfully\n",
    "    data=response.text\n",
    "    # print(data[])\n",
    "    parsed=json.loads(data)\n",
    "    #print(json.dumps(parsed, indent=4))\n",
    "    date=parsed['Trains']\n",
    "    #print(date)\n",
    "    \n",
    "    for i in date:\n",
    "        train_number_stob.append(i['TrainNo'])\n",
    "    print(train_number_stob)\n",
    "    \n",
    "print(time.process_time()-start)  \n",
    "#print(from_station,to_station)\n"
   ]
  },
  {
   "cell_type": "code",
   "execution_count": 13,
   "metadata": {
    "scrolled": true
   },
   "outputs": [
    {
     "output_type": "error",
     "ename": "NameError",
     "evalue": "name 'my' is not defined",
     "traceback": [
      "\u001b[0;31m---------------------------------------------------------------------------\u001b[0m",
      "\u001b[0;31mNameError\u001b[0m                                 Traceback (most recent call last)",
      "\u001b[0;32m<ipython-input-13-7c532f0352bf>\u001b[0m in \u001b[0;36m<module>\u001b[0;34m\u001b[0m\n\u001b[0;32m----> 1\u001b[0;31m \u001b[0mmy\u001b[0m\u001b[0;34m(\u001b[0m\u001b[0;34m)\u001b[0m\u001b[0;34m\u001b[0m\u001b[0;34m\u001b[0m\u001b[0m\n\u001b[0m",
      "\u001b[0;31mNameError\u001b[0m: name 'my' is not defined"
     ]
    }
   ],
   "source": [
    "\n",
    "my()"
   ]
  },
  {
   "cell_type": "code",
   "execution_count": null,
   "metadata": {},
   "outputs": [],
   "source": [
    "        \n"
   ]
  },
  {
   "cell_type": "code",
   "execution_count": 15,
   "metadata": {},
   "outputs": [],
   "source": [
    "def seat_availability(train_number_stob,source,desti):\n",
    "    for i in train_number_stob:\n",
    "        if 1 in seat[i]:\n",
    "            station_name=[j[0] for j in trn_sch[i]]\n",
    "            print(station_name)\n",
    "            x=station_name.index(desti)\n",
    "            if seat[i][x]==1:\n",
    "                print(i+\"---->\"+source+\"---->\"+desti)\n",
    "                continue\n",
    "            else:\n",
    "\n",
    "                temp=station_name[x-seat[i][x::-1].index(1)]\n",
    "                print(temp)\n",
    "                print(i+\"---->\"+source+\"---->\"+temp)\n",
    "                source=temp\n",
    "                continue\n",
    "\n",
    "        else:\n",
    "            continue\n",
    "    "
   ]
  },
  {
   "cell_type": "code",
   "execution_count": 153,
   "metadata": {},
   "outputs": [
    {
     "name": "stdout",
     "output_type": "stream",
     "text": [
      "['NDLS', 'FDB', 'MTJ', 'BTE', 'BXN', 'HAN', 'SMBJ', 'GGC', 'SWM', 'KOTA', 'RMA', 'BWM', 'SGZ', 'NAD', 'RTM', 'MGN', 'DHD', 'GDA', 'BRC', 'ST', 'BVI', 'DDR', 'BCT']\n",
      "KOTA\n",
      "02904---->NDLS---->KOTA\n",
      "['NDLS', 'KOTA', 'BRC', 'ST', 'PNVL', 'RN', 'MAO']\n"
     ]
    },
    {
     "ename": "ValueError",
     "evalue": "'BCT' is not in list",
     "output_type": "error",
     "traceback": [
      "\u001b[0;31m---------------------------------------------------------------------------\u001b[0m",
      "\u001b[0;31mValueError\u001b[0m                                Traceback (most recent call last)",
      "\u001b[0;32m<ipython-input-153-1047713be4e4>\u001b[0m in \u001b[0;36m<module>\u001b[0;34m\u001b[0m\n\u001b[1;32m      1\u001b[0m seat={\"02904\":[1, 1, 1, 1, 1, 1, 1, 1, 1, 1, 0, 0, 0, 0, 0, 0, 0, 0, 0, 0, 0, 0, 0],\n\u001b[1;32m      2\u001b[0m \"02414\":[0,0,1,1,1,1,1],\"02618\":[0, 0, 0, 0, 0, 0, 0, 0, 0, 0, 0, 0, 0, 0, 0, 0, 0, 0, 0, 0, 0, 0, 0, 0, 0, 0, 0, 0, 0, 0],\"02432\":[0, 0, 0, 0, 0, 0, 0, 0, 0, 0, 0, 0, 0, 0, 0, 0, 0, 0, 0, 0, 0, 0, 0, 0, 0, 0, 0, 0, 0, 0],\"02926\":[0, 0, 0, 0, 0, 0, 0, 0, 0, 0, 0, 0, 0, 0, 0, 0, 0, 0, 0, 0, 0, 0, 0, 0, 0, 0, 0, 0, 0, 0],\"20926\":[0, 0, 0, 0, 0, 0, 0, 0, 0, 0, 0, 0, 0, 0, 0, 0, 0, 0, 0, 0, 0, 0, 0, 0, 0, 0, 0, 0, 0, 0],\"02952\":[0, 0, 0, 0, 0, 0, 0, 0, 0, 0, 0, 0, 0, 0, 0, 0, 0, 0, 0, 0, 0, 0, 0, 0, 0, 0, 0, 0, 0, 0],\"02284\":[0, 0, 0, 0, 0, 0, 0, 0, 0, 0, 0, 0, 0, 0, 0, 0, 0, 0, 0, 0, 0, 0, 0, 0, 0, 0, 0, 0, 0, 0]}\n\u001b[0;32m----> 3\u001b[0;31m \u001b[0mseat_availability\u001b[0m\u001b[0;34m(\u001b[0m\u001b[0mtrain_number_stob\u001b[0m\u001b[0;34m,\u001b[0m\u001b[0mcode_sour\u001b[0m\u001b[0;34m,\u001b[0m\u001b[0mcode_dest\u001b[0m\u001b[0;34m)\u001b[0m\u001b[0;34m\u001b[0m\u001b[0;34m\u001b[0m\u001b[0m\n\u001b[0m",
      "\u001b[0;32m<ipython-input-152-8fa913fcefd3>\u001b[0m in \u001b[0;36mseat_availability\u001b[0;34m(train_number_stob, source, desti)\u001b[0m\n\u001b[1;32m      4\u001b[0m             \u001b[0mstation_name\u001b[0m\u001b[0;34m=\u001b[0m\u001b[0;34m[\u001b[0m\u001b[0mj\u001b[0m\u001b[0;34m[\u001b[0m\u001b[0;36m0\u001b[0m\u001b[0;34m]\u001b[0m \u001b[0;32mfor\u001b[0m \u001b[0mj\u001b[0m \u001b[0;32min\u001b[0m \u001b[0mtrn_sch\u001b[0m\u001b[0;34m[\u001b[0m\u001b[0mi\u001b[0m\u001b[0;34m]\u001b[0m\u001b[0;34m]\u001b[0m\u001b[0;34m\u001b[0m\u001b[0;34m\u001b[0m\u001b[0m\n\u001b[1;32m      5\u001b[0m             \u001b[0mprint\u001b[0m\u001b[0;34m(\u001b[0m\u001b[0mstation_name\u001b[0m\u001b[0;34m)\u001b[0m\u001b[0;34m\u001b[0m\u001b[0;34m\u001b[0m\u001b[0m\n\u001b[0;32m----> 6\u001b[0;31m             \u001b[0mx\u001b[0m\u001b[0;34m=\u001b[0m\u001b[0mstation_name\u001b[0m\u001b[0;34m.\u001b[0m\u001b[0mindex\u001b[0m\u001b[0;34m(\u001b[0m\u001b[0mdesti\u001b[0m\u001b[0;34m)\u001b[0m\u001b[0;34m\u001b[0m\u001b[0;34m\u001b[0m\u001b[0m\n\u001b[0m\u001b[1;32m      7\u001b[0m             \u001b[0;32mif\u001b[0m \u001b[0mseat\u001b[0m\u001b[0;34m[\u001b[0m\u001b[0mi\u001b[0m\u001b[0;34m]\u001b[0m\u001b[0;34m[\u001b[0m\u001b[0mx\u001b[0m\u001b[0;34m]\u001b[0m\u001b[0;34m==\u001b[0m\u001b[0;36m1\u001b[0m\u001b[0;34m:\u001b[0m\u001b[0;34m\u001b[0m\u001b[0;34m\u001b[0m\u001b[0m\n\u001b[1;32m      8\u001b[0m                 \u001b[0mprint\u001b[0m\u001b[0;34m(\u001b[0m\u001b[0mi\u001b[0m\u001b[0;34m+\u001b[0m\u001b[0;34m\"---->\"\u001b[0m\u001b[0;34m+\u001b[0m\u001b[0msource\u001b[0m\u001b[0;34m+\u001b[0m\u001b[0;34m\"---->\"\u001b[0m\u001b[0;34m+\u001b[0m\u001b[0mdesti\u001b[0m\u001b[0;34m)\u001b[0m\u001b[0;34m\u001b[0m\u001b[0;34m\u001b[0m\u001b[0m\n",
      "\u001b[0;31mValueError\u001b[0m: 'BCT' is not in list"
     ]
    }
   ],
   "source": [
    "seat={\"02904\":[1, 1, 1, 1, 1, 1, 1, 1, 1, 1, 0, 0, 0, 0, 0, 0, 0, 0, 0, 0, 0, 0, 0],\n",
    "\"02414\":[0,0,1,1,1,1,1],\"02618\":[0, 0, 0, 0, 0, 0, 0, 0, 0, 0, 0, 0, 0, 0, 0, 0, 0, 0, 0, 0, 0, 0, 0, 0, 0, 0, 0, 0, 0, 0],\"02432\":[0, 0, 0, 0, 0, 0, 0, 0, 0, 0, 0, 0, 0, 0, 0, 0, 0, 0, 0, 0, 0, 0, 0, 0, 0, 0, 0, 0, 0, 0],\"02926\":[0, 0, 0, 0, 0, 0, 0, 0, 0, 0, 0, 0, 0, 0, 0, 0, 0, 0, 0, 0, 0, 0, 0, 0, 0, 0, 0, 0, 0, 0],\"20926\":[0, 0, 0, 0, 0, 0, 0, 0, 0, 0, 0, 0, 0, 0, 0, 0, 0, 0, 0, 0, 0, 0, 0, 0, 0, 0, 0, 0, 0, 0],\"02952\":[0, 0, 0, 0, 0, 0, 0, 0, 0, 0, 0, 0, 0, 0, 0, 0, 0, 0, 0, 0, 0, 0, 0, 0, 0, 0, 0, 0, 0, 0],\"02284\":[0, 0, 0, 0, 0, 0, 0, 0, 0, 0, 0, 0, 0, 0, 0, 0, 0, 0, 0, 0, 0, 0, 0, 0, 0, 0, 0, 0, 0, 0]}\n",
    "seat_availability(train_number_stob,code_sour,code_dest)   "
   ]
  },
  {
   "cell_type": "code",
   "execution_count": 130,
   "metadata": {},
   "outputs": [
    {
     "name": "stdout",
     "output_type": "stream",
     "text": [
      "NDLS BCT\n"
     ]
    }
   ],
   "source": [
    "print(code_sour,code_dest)"
   ]
  },
  {
   "cell_type": "code",
   "execution_count": 1,
   "metadata": {
    "tags": []
   },
   "outputs": [
    {
     "output_type": "stream",
     "name": "stdout",
     "text": "AI elligence\n"
    }
   ],
   "source": [
    "print(\"AI elligence\")"
   ]
  },
  {
   "cell_type": "code",
   "execution_count": null,
   "metadata": {},
   "outputs": [],
   "source": []
  },
  {
   "cell_type": "code",
   "execution_count": null,
   "metadata": {},
   "outputs": [],
   "source": []
  }
 ],
 "metadata": {
  "kernelspec": {
   "display_name": "Python 3",
   "language": "python",
   "name": "python3"
  },
  "language_info": {
   "codemirror_mode": {
    "name": "ipython",
    "version": 3
   },
   "file_extension": ".py",
   "mimetype": "text/x-python",
   "name": "python",
   "nbconvert_exporter": "python",
   "pygments_lexer": "ipython3",
   "version": "3.8.3-final"
  }
 },
 "nbformat": 4,
 "nbformat_minor": 4
}